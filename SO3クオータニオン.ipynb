{
 "cells": [
  {
   "cell_type": "code",
   "execution_count": 1,
   "source": [
    "using SymPy"
   ],
   "outputs": [],
   "metadata": {}
  },
  {
   "cell_type": "code",
   "execution_count": 2,
   "source": [
    "struct Quaternion \r\n",
    "  w::Sym\r\n",
    "  x::Sym\r\n",
    "  y::Sym\r\n",
    "  z::Sym\r\n",
    "end"
   ],
   "outputs": [],
   "metadata": {}
  },
  {
   "cell_type": "code",
   "execution_count": 3,
   "source": [
    "import Base.*\r\n",
    "import Base.+\r\n",
    "import Base.-\r\n",
    "\r\n",
    "\r\n",
    "(*)(p::Quaternion, q::Quaternion) = (\r\n",
    "  Quaternion(p.w*q.w -p.x*q.x -p.y*q.y -p.z*q.z\r\n",
    "    ,p.w*q.x + p.x*q.w + p.y*q.z -p.z*q.y \r\n",
    "    ,p.w*q.y + p.y*q.w + p.z*q.x -p.x*q.z \r\n",
    "    ,p.w*q.z + p.z*q.w + p.x*q.y -p.y*q.x \r\n",
    "    )\r\n",
    ")\r\n",
    "\r\n",
    "(*)(α, q::Quaternion) =  Quaternion( α*q.w, α*q.x, α*q.y, α*q.z)\r\n",
    "(+)(p::Quaternion, q::Quaternion) = Quaternion(p.w+q.w, p.x+q.x, p.y+q.y, p.z+q.z)\r\n",
    "(-)(p::Quaternion, q::Quaternion) = Quaternion(p.w-q.w, p.x-q.x, p.y-q.y, p.z-q.z)\r\n",
    "\r\n",
    "import Base.display\r\n",
    "\r\n",
    "function display(q::Quaternion)\r\n",
    "  display([\r\n",
    "    q.w\r\n",
    "    q.x\r\n",
    "    q.y\r\n",
    "    q.z\r\n",
    "  ]\r\n",
    "    )\r\n",
    "end\r\n",
    "\r\n",
    "import SymPy.expand \r\n",
    "expand(q::Quaternion) = Quaternion(expand(q.w),expand(q.x),expand(q.y),expand(q.z))\r\n"
   ],
   "outputs": [
    {
     "output_type": "execute_result",
     "data": {
      "text/plain": [
       "expand (generic function with 2 methods)"
      ]
     },
     "metadata": {},
     "execution_count": 3
    }
   ],
   "metadata": {}
  },
  {
   "cell_type": "code",
   "execution_count": 4,
   "source": [
    "@syms w1::real w2::real x1::real x2::real y1::real y2::real z1::real z2::real \r\n",
    "@syms w3::real x3::real y3::real z3::real\r\n",
    "@syms w::real x::real y::real z::real\r\n",
    "@syms a::real b::real c::real\r\n",
    "@syms a1::real b1::real c1::real\r\n",
    "@syms a2::real b2::real c2::real\r\n",
    "@syms α::real, β::real\r\n",
    "@syms θ::real"
   ],
   "outputs": [
    {
     "output_type": "execute_result",
     "data": {
      "text/plain": [
       "(θ,)"
      ]
     },
     "metadata": {},
     "execution_count": 4
    }
   ],
   "metadata": {}
  },
  {
   "cell_type": "code",
   "execution_count": 5,
   "source": [
    "q = Quaternion(w,x,y,z)\r\n",
    "q1 = Quaternion(w1,x1,y1,z1)\r\n",
    "q2 = Quaternion(w2,x2,y2,z2)\r\n",
    "display(q1 * q2 )"
   ],
   "outputs": [
    {
     "output_type": "display_data",
     "data": {
      "text/latex": [
       "$\\left[ \\begin{array}{r}w_{1} w_{2} - x_{1} x_{2} - y_{1} y_{2} - z_{1} z_{2}\\\\w_{1} x_{2} + w_{2} x_{1} + y_{1} z_{2} - y_{2} z_{1}\\\\w_{1} y_{2} + w_{2} y_{1} - x_{1} z_{2} + x_{2} z_{1}\\\\w_{1} z_{2} + w_{2} z_{1} + x_{1} y_{2} - x_{2} y_{1}\\end{array} \\right]$\n"
      ],
      "text/plain": [
       "4-element Vector{Sym}:\n",
       " w₁⋅w₂ - x₁⋅x₂ - y₁⋅y₂ - z₁⋅z₂\n",
       " w₁⋅x₂ + w₂⋅x₁ + y₁⋅z₂ - y₂⋅z₁\n",
       " w₁⋅y₂ + w₂⋅y₁ - x₁⋅z₂ + x₂⋅z₁\n",
       " w₁⋅z₂ + w₂⋅z₁ + x₁⋅y₂ - x₂⋅y₁"
      ]
     },
     "metadata": {}
    }
   ],
   "metadata": {}
  },
  {
   "cell_type": "markdown",
   "source": [
    "## 線形性の確認"
   ],
   "metadata": {}
  },
  {
   "cell_type": "code",
   "execution_count": 6,
   "source": [
    "Q1 = expand(q*(α*q1 + β*q2))\r\n",
    "Q2 = expand(α*(q*q1) + β*(q*q2))"
   ],
   "outputs": [
    {
     "output_type": "execute_result",
     "data": {
      "text/plain": [
       "Quaternion(w*w1*α + w*w2*β - x*x1*α - x*x2*β - y*y1*α - y*y2*β - z*z1*α - z*z2*β, w*x1*α + w*x2*β + w1*x*α + w2*x*β + y*z1*α + y*z2*β - y1*z*α - y2*z*β, w*y1*α + w*y2*β + w1*y*α + w2*y*β - x*z1*α - x*z2*β + x1*z*α + x2*z*β, w*z1*α + w*z2*β + w1*z*α + w2*z*β + x*y1*α + x*y2*β - x1*y*α - x2*y*β)"
      ]
     },
     "metadata": {},
     "execution_count": 6
    }
   ],
   "metadata": {}
  },
  {
   "cell_type": "code",
   "execution_count": 7,
   "source": [
    "display(Q1)"
   ],
   "outputs": [
    {
     "output_type": "display_data",
     "data": {
      "text/latex": [
       "$\\left[ \\begin{array}{r}w w_{1} α + w w_{2} β - x x_{1} α - x x_{2} β - y y_{1} α - y y_{2} β - z z_{1} α - z z_{2} β\\\\w x_{1} α + w x_{2} β + w_{1} x α + w_{2} x β + y z_{1} α + y z_{2} β - y_{1} z α - y_{2} z β\\\\w y_{1} α + w y_{2} β + w_{1} y α + w_{2} y β - x z_{1} α - x z_{2} β + x_{1} z α + x_{2} z β\\\\w z_{1} α + w z_{2} β + w_{1} z α + w_{2} z β + x y_{1} α + x y_{2} β - x_{1} y α - x_{2} y β\\end{array} \\right]$\n"
      ],
      "text/plain": [
       "4-element Vector{Sym}:\n",
       " w⋅w₁⋅α + w⋅w₂⋅β - x⋅x₁⋅α - x⋅x₂⋅β - y⋅y₁⋅α - y⋅y₂⋅β - z⋅z₁⋅α - z⋅z₂⋅β\n",
       " w⋅x₁⋅α + w⋅x₂⋅β + w₁⋅x⋅α + w₂⋅x⋅β + y⋅z₁⋅α + y⋅z₂⋅β - y₁⋅z⋅α - y₂⋅z⋅β\n",
       " w⋅y₁⋅α + w⋅y₂⋅β + w₁⋅y⋅α + w₂⋅y⋅β - x⋅z₁⋅α - x⋅z₂⋅β + x₁⋅z⋅α + x₂⋅z⋅β\n",
       " w⋅z₁⋅α + w⋅z₂⋅β + w₁⋅z⋅α + w₂⋅z⋅β + x⋅y₁⋅α + x⋅y₂⋅β - x₁⋅y⋅α - x₂⋅y⋅β"
      ]
     },
     "metadata": {}
    }
   ],
   "metadata": {}
  },
  {
   "cell_type": "code",
   "execution_count": 8,
   "source": [
    "display(Q2)"
   ],
   "outputs": [
    {
     "output_type": "display_data",
     "data": {
      "text/latex": [
       "$\\left[ \\begin{array}{r}w w_{1} α + w w_{2} β - x x_{1} α - x x_{2} β - y y_{1} α - y y_{2} β - z z_{1} α - z z_{2} β\\\\w x_{1} α + w x_{2} β + w_{1} x α + w_{2} x β + y z_{1} α + y z_{2} β - y_{1} z α - y_{2} z β\\\\w y_{1} α + w y_{2} β + w_{1} y α + w_{2} y β - x z_{1} α - x z_{2} β + x_{1} z α + x_{2} z β\\\\w z_{1} α + w z_{2} β + w_{1} z α + w_{2} z β + x y_{1} α + x y_{2} β - x_{1} y α - x_{2} y β\\end{array} \\right]$\n"
      ],
      "text/plain": [
       "4-element Vector{Sym}:\n",
       " w⋅w₁⋅α + w⋅w₂⋅β - x⋅x₁⋅α - x⋅x₂⋅β - y⋅y₁⋅α - y⋅y₂⋅β - z⋅z₁⋅α - z⋅z₂⋅β\n",
       " w⋅x₁⋅α + w⋅x₂⋅β + w₁⋅x⋅α + w₂⋅x⋅β + y⋅z₁⋅α + y⋅z₂⋅β - y₁⋅z⋅α - y₂⋅z⋅β\n",
       " w⋅y₁⋅α + w⋅y₂⋅β + w₁⋅y⋅α + w₂⋅y⋅β - x⋅z₁⋅α - x⋅z₂⋅β + x₁⋅z⋅α + x₂⋅z⋅β\n",
       " w⋅z₁⋅α + w⋅z₂⋅β + w₁⋅z⋅α + w₂⋅z⋅β + x⋅y₁⋅α + x⋅y₂⋅β - x₁⋅y⋅α - x₂⋅y⋅β"
      ]
     },
     "metadata": {}
    }
   ],
   "metadata": {}
  },
  {
   "cell_type": "code",
   "execution_count": 9,
   "source": [
    "Q1.w == Q2.w"
   ],
   "outputs": [
    {
     "output_type": "execute_result",
     "data": {
      "text/plain": [
       "true"
      ]
     },
     "metadata": {},
     "execution_count": 9
    }
   ],
   "metadata": {}
  },
  {
   "cell_type": "code",
   "execution_count": 10,
   "source": [
    "Q1.x == Q2.x"
   ],
   "outputs": [
    {
     "output_type": "execute_result",
     "data": {
      "text/plain": [
       "true"
      ]
     },
     "metadata": {},
     "execution_count": 10
    }
   ],
   "metadata": {}
  },
  {
   "cell_type": "code",
   "execution_count": 11,
   "source": [
    "Q1.y == Q2.y"
   ],
   "outputs": [
    {
     "output_type": "execute_result",
     "data": {
      "text/plain": [
       "true"
      ]
     },
     "metadata": {},
     "execution_count": 11
    }
   ],
   "metadata": {}
  },
  {
   "cell_type": "code",
   "execution_count": 12,
   "source": [
    "Q1.z == Q2.z"
   ],
   "outputs": [
    {
     "output_type": "execute_result",
     "data": {
      "text/plain": [
       "true"
      ]
     },
     "metadata": {},
     "execution_count": 12
    }
   ],
   "metadata": {}
  },
  {
   "cell_type": "code",
   "execution_count": 13,
   "source": [
    "Q1 == Q2 "
   ],
   "outputs": [
    {
     "output_type": "execute_result",
     "data": {
      "text/plain": [
       "false"
      ]
     },
     "metadata": {},
     "execution_count": 13
    }
   ],
   "metadata": {}
  },
  {
   "cell_type": "code",
   "execution_count": 14,
   "source": [
    "import Base.adjoint\r\n",
    "import Base.abs2\r\n",
    "\r\n",
    "adjoint(q::Quaternion) = Quaternion(q.w, -q.x, -q.y , -q.z)\r\n",
    "abs2(p::Quaternion) = p.w*p.w + p.x*p.x + p.y*p.y + p.z*p.z\r\n",
    "\r\n"
   ],
   "outputs": [
    {
     "output_type": "execute_result",
     "data": {
      "text/plain": [
       "abs2 (generic function with 6 methods)"
      ]
     },
     "metadata": {},
     "execution_count": 14
    }
   ],
   "metadata": {}
  },
  {
   "cell_type": "code",
   "execution_count": 15,
   "source": [
    "\r\n",
    "display(q1*adjoint(q1))\r\n",
    "abs2(q1)"
   ],
   "outputs": [
    {
     "output_type": "display_data",
     "data": {
      "text/latex": [
       "$\\left[ \\begin{array}{r}w_{1}^{2} + x_{1}^{2} + y_{1}^{2} + z_{1}^{2}\\\\0\\\\0\\\\0\\end{array} \\right]$\n"
      ],
      "text/plain": [
       "4-element Vector{Sym}:\n",
       " w1^2 + x1^2 + y1^2 + z1^2\n",
       "                         0\n",
       "                         0\n",
       "                         0"
      ]
     },
     "metadata": {}
    },
    {
     "output_type": "execute_result",
     "data": {
      "text/latex": [
       "$\\begin{equation*}w_{1}^{2} + x_{1}^{2} + y_{1}^{2} + z_{1}^{2}\\end{equation*}$\n"
      ],
      "text/plain": [
       "  2     2     2     2\n",
       "w₁  + x₁  + y₁  + z₁ "
      ]
     },
     "metadata": {},
     "execution_count": 15
    }
   ],
   "metadata": {}
  },
  {
   "cell_type": "code",
   "execution_count": 16,
   "source": [
    "abs2(q1*q2)"
   ],
   "outputs": [
    {
     "output_type": "execute_result",
     "data": {
      "text/latex": [
       "$\\begin{equation*}\\left(w_{1} w_{2} - x_{1} x_{2} - y_{1} y_{2} - z_{1} z_{2}\\right)^{2} + \\left(w_{1} x_{2} + w_{2} x_{1} + y_{1} z_{2} - y_{2} z_{1}\\right)^{2} + \\left(w_{1} y_{2} + w_{2} y_{1} - x_{1} z_{2} + x_{2} z_{1}\\right)^{2} + \\left(w_{1} z_{2} + w_{2} z_{1} + x_{1} y_{2} - x_{2} y_{1}\\right)^{2}\\end{equation*}$\n"
      ],
      "text/plain": [
       "                               2                                  2           \n",
       "(w₁⋅w₂ - x₁⋅x₂ - y₁⋅y₂ - z₁⋅z₂)  + (w₁⋅x₂ + w₂⋅x₁ + y₁⋅z₂ - y₂⋅z₁)  + (w₁⋅y₂ +\n",
       "\n",
       "                       2                                  2\n",
       " w₂⋅y₁ - x₁⋅z₂ + x₂⋅z₁)  + (w₁⋅z₂ + w₂⋅z₁ + x₁⋅y₂ - x₂⋅y₁) "
      ]
     },
     "metadata": {},
     "execution_count": 16
    }
   ],
   "metadata": {}
  },
  {
   "cell_type": "code",
   "execution_count": 17,
   "source": [
    "expand(subs(expand(abs2(q1*q2)), w1^2 => 1-x1^2-y1^2-z1^2))"
   ],
   "outputs": [
    {
     "output_type": "execute_result",
     "data": {
      "text/latex": [
       "$\\begin{equation*}w_{2}^{2} + x_{2}^{2} + y_{2}^{2} + z_{2}^{2}\\end{equation*}$\n"
      ],
      "text/plain": [
       "  2     2     2     2\n",
       "w₂  + x₂  + y₂  + z₂ "
      ]
     },
     "metadata": {},
     "execution_count": 17
    }
   ],
   "metadata": {}
  },
  {
   "cell_type": "code",
   "execution_count": 18,
   "source": [
    "subs(abs2(q1*q2), w1^2 => 1-x1^2-y1^2-z1^2)"
   ],
   "outputs": [
    {
     "output_type": "execute_result",
     "data": {
      "text/latex": [
       "$\\begin{equation*}\\left(w_{1} w_{2} - x_{1} x_{2} - y_{1} y_{2} - z_{1} z_{2}\\right)^{2} + \\left(w_{1} x_{2} + w_{2} x_{1} + y_{1} z_{2} - y_{2} z_{1}\\right)^{2} + \\left(w_{1} y_{2} + w_{2} y_{1} - x_{1} z_{2} + x_{2} z_{1}\\right)^{2} + \\left(w_{1} z_{2} + w_{2} z_{1} + x_{1} y_{2} - x_{2} y_{1}\\right)^{2}\\end{equation*}$\n"
      ],
      "text/plain": [
       "                               2                                  2           \n",
       "(w₁⋅w₂ - x₁⋅x₂ - y₁⋅y₂ - z₁⋅z₂)  + (w₁⋅x₂ + w₂⋅x₁ + y₁⋅z₂ - y₂⋅z₁)  + (w₁⋅y₂ +\n",
       "\n",
       "                       2                                  2\n",
       " w₂⋅y₁ - x₁⋅z₂ + x₂⋅z₁)  + (w₁⋅z₂ + w₂⋅z₁ + x₁⋅y₂ - x₂⋅y₁) "
      ]
     },
     "metadata": {},
     "execution_count": 18
    }
   ],
   "metadata": {}
  },
  {
   "cell_type": "code",
   "execution_count": 19,
   "source": [
    "expand(subs(expand(abs2(q1*q2)), w1^2 +x1^2+y1^2+z1^2=> 1))"
   ],
   "outputs": [
    {
     "output_type": "execute_result",
     "data": {
      "text/latex": [
       "$\\begin{equation*}w_{1}^{2} w_{2}^{2} + w_{1}^{2} x_{2}^{2} + w_{1}^{2} y_{2}^{2} + w_{1}^{2} z_{2}^{2} + w_{2}^{2} x_{1}^{2} + w_{2}^{2} y_{1}^{2} + w_{2}^{2} z_{1}^{2} + x_{1}^{2} x_{2}^{2} + x_{1}^{2} y_{2}^{2} + x_{1}^{2} z_{2}^{2} + x_{2}^{2} y_{1}^{2} + x_{2}^{2} z_{1}^{2} + y_{1}^{2} y_{2}^{2} + y_{1}^{2} z_{2}^{2} + y_{2}^{2} z_{1}^{2} + z_{1}^{2} z_{2}^{2}\\end{equation*}$\n"
      ],
      "text/plain": [
       "  2   2     2   2     2   2     2   2     2   2     2   2     2   2     2   2 \n",
       "w₁ ⋅w₂  + w₁ ⋅x₂  + w₁ ⋅y₂  + w₁ ⋅z₂  + w₂ ⋅x₁  + w₂ ⋅y₁  + w₂ ⋅z₁  + x₁ ⋅x₂  \n",
       "\n",
       "    2   2     2   2     2   2     2   2     2   2     2   2     2   2     2   \n",
       "+ x₁ ⋅y₂  + x₁ ⋅z₂  + x₂ ⋅y₁  + x₂ ⋅z₁  + y₁ ⋅y₂  + y₁ ⋅z₂  + y₂ ⋅z₁  + z₁ ⋅z₂\n",
       "\n",
       "2\n",
       " "
      ]
     },
     "metadata": {},
     "execution_count": 19
    }
   ],
   "metadata": {}
  },
  {
   "cell_type": "code",
   "execution_count": 20,
   "source": [
    "subs(expand(abs2(q1*q2)), w1^2 => 1-x1^2-y1^2-z1^2)"
   ],
   "outputs": [
    {
     "output_type": "execute_result",
     "data": {
      "text/latex": [
       "$\\begin{equation*}w_{2}^{2} x_{1}^{2} + w_{2}^{2} y_{1}^{2} + w_{2}^{2} z_{1}^{2} + w_{2}^{2} \\left(- x_{1}^{2} - y_{1}^{2} - z_{1}^{2} + 1\\right) + x_{1}^{2} x_{2}^{2} + x_{1}^{2} y_{2}^{2} + x_{1}^{2} z_{2}^{2} + x_{2}^{2} y_{1}^{2} + x_{2}^{2} z_{1}^{2} + x_{2}^{2} \\left(- x_{1}^{2} - y_{1}^{2} - z_{1}^{2} + 1\\right) + y_{1}^{2} y_{2}^{2} + y_{1}^{2} z_{2}^{2} + y_{2}^{2} z_{1}^{2} + y_{2}^{2} \\left(- x_{1}^{2} - y_{1}^{2} - z_{1}^{2} + 1\\right) + z_{1}^{2} z_{2}^{2} + z_{2}^{2} \\left(- x_{1}^{2} - y_{1}^{2} - z_{1}^{2} + 1\\right)\\end{equation*}$\n"
      ],
      "text/plain": [
       "  2   2     2   2     2   2     2 ⎛    2     2     2    ⎞     2   2     2   2 \n",
       "w₂ ⋅x₁  + w₂ ⋅y₁  + w₂ ⋅z₁  + w₂ ⋅⎝- x₁  - y₁  - z₁  + 1⎠ + x₁ ⋅x₂  + x₁ ⋅y₂  \n",
       "\n",
       "    2   2     2   2     2   2     2 ⎛    2     2     2    ⎞     2   2     2   \n",
       "+ x₁ ⋅z₂  + x₂ ⋅y₁  + x₂ ⋅z₁  + x₂ ⋅⎝- x₁  - y₁  - z₁  + 1⎠ + y₁ ⋅y₂  + y₁ ⋅z₂\n",
       "\n",
       "2     2   2     2 ⎛    2     2     2    ⎞     2   2     2 ⎛    2     2     2  \n",
       "  + y₂ ⋅z₁  + y₂ ⋅⎝- x₁  - y₁  - z₁  + 1⎠ + z₁ ⋅z₂  + z₂ ⋅⎝- x₁  - y₁  - z₁  +\n",
       "\n",
       "  ⎞\n",
       " 1⎠"
      ]
     },
     "metadata": {},
     "execution_count": 20
    }
   ],
   "metadata": {}
  },
  {
   "cell_type": "code",
   "execution_count": 21,
   "source": [
    "v = Quaternion(0,a,b,c)\r\n",
    "q = Quaternion(w,x,y,z)"
   ],
   "outputs": [
    {
     "output_type": "execute_result",
     "data": {
      "text/plain": [
       "Quaternion(w, x, y, z)"
      ]
     },
     "metadata": {},
     "execution_count": 21
    }
   ],
   "metadata": {}
  },
  {
   "cell_type": "code",
   "execution_count": 22,
   "source": [
    "display(expand(q*(v)*adjoint(q)))"
   ],
   "outputs": [
    {
     "output_type": "display_data",
     "data": {
      "text/latex": [
       "$\\left[ \\begin{array}{r}0\\\\a w^{2} + a x^{2} - a y^{2} - a z^{2} - 2 b w z + 2 b x y + 2 c w y + 2 c x z\\\\2 a w z + 2 a x y + b w^{2} - b x^{2} + b y^{2} - b z^{2} - 2 c w x + 2 c y z\\\\- 2 a w y + 2 a x z + 2 b w x + 2 b y z + c w^{2} - c x^{2} - c y^{2} + c z^{2}\\end{array} \\right]$\n"
      ],
      "text/plain": [
       "4-element Vector{Sym}:\n",
       "                                                                      0\n",
       "  a*w^2 + a*x^2 - a*y^2 - a*z^2 - 2*b*w*z + 2*b*x*y + 2*c*w*y + 2*c*x*z\n",
       "  2*a*w*z + 2*a*x*y + b*w^2 - b*x^2 + b*y^2 - b*z^2 - 2*c*w*x + 2*c*y*z\n",
       " -2*a*w*y + 2*a*x*z + 2*b*w*x + 2*b*y*z + c*w^2 - c*x^2 - c*y^2 + c*z^2"
      ]
     },
     "metadata": {}
    }
   ],
   "metadata": {}
  },
  {
   "cell_type": "code",
   "execution_count": 23,
   "source": [
    "display((q*(v)*adjoint(q)))"
   ],
   "outputs": [
    {
     "output_type": "display_data",
     "data": {
      "text/latex": [
       "$\\left[ \\begin{array}{r}w \\left(- a x - b y - c z\\right) + x \\left(a w - b z + c y\\right) + y \\left(a z + b w - c x\\right) + z \\left(- a y + b x + c w\\right)\\\\w \\left(a w - b z + c y\\right) - x \\left(- a x - b y - c z\\right) + y \\left(- a y + b x + c w\\right) - z \\left(a z + b w - c x\\right)\\\\w \\left(a z + b w - c x\\right) - x \\left(- a y + b x + c w\\right) - y \\left(- a x - b y - c z\\right) + z \\left(a w - b z + c y\\right)\\\\w \\left(- a y + b x + c w\\right) + x \\left(a z + b w - c x\\right) - y \\left(a w - b z + c y\\right) - z \\left(- a x - b y - c z\\right)\\end{array} \\right]$\n"
      ],
      "text/plain": [
       "4-element Vector{Sym}:\n",
       " w*(-a*x - b*y - c*z) + x*(a*w - b*z + c*y) + y*(a*z + b*w - c*x) + z*(-a*y + b*x + c*w)\n",
       " w*(a*w - b*z + c*y) - x*(-a*x - b*y - c*z) + y*(-a*y + b*x + c*w) - z*(a*z + b*w - c*x)\n",
       " w*(a*z + b*w - c*x) - x*(-a*y + b*x + c*w) - y*(-a*x - b*y - c*z) + z*(a*w - b*z + c*y)\n",
       " w*(-a*y + b*x + c*w) + x*(a*z + b*w - c*x) - y*(a*w - b*z + c*y) - z*(-a*x - b*y - c*z)"
      ]
     },
     "metadata": {}
    }
   ],
   "metadata": {}
  },
  {
   "cell_type": "code",
   "execution_count": 24,
   "source": [
    "display(expand(q*Quaternion(0,1,0,0)*adjoint(q)))\r\n",
    "display(expand(q*Quaternion(0,0,1,0)*adjoint(q)))\r\n",
    "display(expand(q*Quaternion(0,0,0,1)*adjoint(q)))"
   ],
   "outputs": [
    {
     "output_type": "display_data",
     "data": {
      "text/latex": [
       "$\\left[ \\begin{array}{r}0\\\\w^{2} + x^{2} - y^{2} - z^{2}\\\\2 w z + 2 x y\\\\- 2 w y + 2 x z\\end{array} \\right]$\n"
      ],
      "text/plain": [
       "4-element Vector{Sym}:\n",
       "                     0\n",
       " w^2 + x^2 - y^2 - z^2\n",
       "         2⋅w⋅z + 2⋅x⋅y\n",
       "        -2⋅w⋅y + 2⋅x⋅z"
      ]
     },
     "metadata": {}
    },
    {
     "output_type": "display_data",
     "data": {
      "text/latex": [
       "$\\left[ \\begin{array}{r}0\\\\- 2 w z + 2 x y\\\\w^{2} - x^{2} + y^{2} - z^{2}\\\\2 w x + 2 y z\\end{array} \\right]$\n"
      ],
      "text/plain": [
       "4-element Vector{Sym}:\n",
       "                     0\n",
       "        -2⋅w⋅z + 2⋅x⋅y\n",
       " w^2 - x^2 + y^2 - z^2\n",
       "         2⋅w⋅x + 2⋅y⋅z"
      ]
     },
     "metadata": {}
    },
    {
     "output_type": "display_data",
     "data": {
      "text/latex": [
       "$\\left[ \\begin{array}{r}0\\\\2 w y + 2 x z\\\\- 2 w x + 2 y z\\\\w^{2} - x^{2} - y^{2} + z^{2}\\end{array} \\right]$\n"
      ],
      "text/plain": [
       "4-element Vector{Sym}:\n",
       "                     0\n",
       "         2⋅w⋅y + 2⋅x⋅z\n",
       "        -2⋅w⋅x + 2⋅y⋅z\n",
       " w^2 - x^2 - y^2 + z^2"
      ]
     },
     "metadata": {}
    }
   ],
   "metadata": {}
  },
  {
   "cell_type": "code",
   "execution_count": 25,
   "source": [
    "import Base.collect\r\n",
    "collect(q::Quaternion) = [q.w, q.x, q.y, q.z]\r\n"
   ],
   "outputs": [
    {
     "output_type": "execute_result",
     "data": {
      "text/plain": [
       "collect (generic function with 12 methods)"
      ]
     },
     "metadata": {},
     "execution_count": 25
    }
   ],
   "metadata": {}
  },
  {
   "cell_type": "code",
   "execution_count": 26,
   "source": [
    "M = [collect(expand(q*Quaternion(0,1,0,0)*adjoint(q))) collect(expand(q*Quaternion(0,0,1,0)*adjoint(q))) collect(expand(q*Quaternion(0,0,0,1)*adjoint(q)))]"
   ],
   "outputs": [
    {
     "output_type": "execute_result",
     "data": {
      "text/latex": [
       "$\\left[ \\begin{array}{rrr}0&0&0\\\\w^{2} + x^{2} - y^{2} - z^{2}&- 2 w z + 2 x y&2 w y + 2 x z\\\\2 w z + 2 x y&w^{2} - x^{2} + y^{2} - z^{2}&- 2 w x + 2 y z\\\\- 2 w y + 2 x z&2 w x + 2 y z&w^{2} - x^{2} - y^{2} + z^{2}\\end{array}\\right]$\n"
      ],
      "text/plain": [
       "4×3 Matrix{Sym}:\n",
       "                     0                      0                      0\n",
       " w^2 + x^2 - y^2 - z^2         -2⋅w⋅z + 2⋅x⋅y          2⋅w⋅y + 2⋅x⋅z\n",
       "         2⋅w⋅z + 2⋅x⋅y  w^2 - x^2 + y^2 - z^2         -2⋅w⋅x + 2⋅y⋅z\n",
       "        -2⋅w⋅y + 2⋅x⋅z          2⋅w⋅x + 2⋅y⋅z  w^2 - x^2 - y^2 + z^2"
      ]
     },
     "metadata": {},
     "execution_count": 26
    }
   ],
   "metadata": {}
  },
  {
   "cell_type": "code",
   "execution_count": 27,
   "source": [
    "MtM = expand.(M' * M)"
   ],
   "outputs": [
    {
     "output_type": "execute_result",
     "data": {
      "text/latex": [
       "$\\left[ \\begin{array}{rrr}w^{4} + 2 w^{2} x^{2} + 2 w^{2} y^{2} + 2 w^{2} z^{2} + x^{4} + 2 x^{2} y^{2} + 2 x^{2} z^{2} + y^{4} + 2 y^{2} z^{2} + z^{4}&0&0\\\\0&w^{4} + 2 w^{2} x^{2} + 2 w^{2} y^{2} + 2 w^{2} z^{2} + x^{4} + 2 x^{2} y^{2} + 2 x^{2} z^{2} + y^{4} + 2 y^{2} z^{2} + z^{4}&0\\\\0&0&w^{4} + 2 w^{2} x^{2} + 2 w^{2} y^{2} + 2 w^{2} z^{2} + x^{4} + 2 x^{2} y^{2} + 2 x^{2} z^{2} + y^{4} + 2 y^{2} z^{2} + z^{4}\\end{array}\\right]$\n"
      ],
      "text/plain": [
       "3×3 Matrix{Sym}:\n",
       " w^4 + 2*w^2*x^2 + 2*w^2*y^2 + 2*w^2*z^2 + x^4 + 2*x^2*y^2 + 2*x^2*z^2 + y^4 + 2*y^2*z^2 + z^4  …                                                                                              0\n",
       "                                                                                             0                                                                                                 0\n",
       "                                                                                             0     w^4 + 2*w^2*x^2 + 2*w^2*y^2 + 2*w^2*z^2 + x^4 + 2*x^2*y^2 + 2*x^2*z^2 + y^4 + 2*y^2*z^2 + z^4"
      ]
     },
     "metadata": {},
     "execution_count": 27
    }
   ],
   "metadata": {}
  },
  {
   "cell_type": "code",
   "execution_count": 28,
   "source": [
    "expand.(subs.(MtM, w^2 => 1-x^2-y^2-z^2))"
   ],
   "outputs": [
    {
     "output_type": "execute_result",
     "data": {
      "text/latex": [
       "$\\left[ \\begin{array}{rrr}1&0&0\\\\0&1&0\\\\0&0&1\\end{array}\\right]$\n"
      ],
      "text/plain": [
       "3×3 Matrix{Sym}:\n",
       " 1  0  0\n",
       " 0  1  0\n",
       " 0  0  1"
      ]
     },
     "metadata": {},
     "execution_count": 28
    }
   ],
   "metadata": {}
  },
  {
   "cell_type": "code",
   "execution_count": 29,
   "source": [
    "detM = det(M[2:end,:])"
   ],
   "outputs": [
    {
     "output_type": "stream",
     "name": "stderr",
     "text": [
      "\n"
     ]
    },
    {
     "output_type": "execute_result",
     "data": {
      "text/latex": [
       "$\\begin{equation*}w^{6} + 3 w^{4} x^{2} + 3 w^{4} y^{2} + 3 w^{4} z^{2} + 3 w^{2} x^{4} + 6 w^{2} x^{2} y^{2} + 6 w^{2} x^{2} z^{2} + 3 w^{2} y^{4} + 6 w^{2} y^{2} z^{2} + 3 w^{2} z^{4} + x^{6} + 3 x^{4} y^{2} + 3 x^{4} z^{2} + 3 x^{2} y^{4} + 6 x^{2} y^{2} z^{2} + 3 x^{2} z^{4} + y^{6} + 3 y^{4} z^{2} + 3 y^{2} z^{4} + z^{6}\\end{equation*}$\n"
      ],
      "text/plain": [
       " 6      4  2      4  2      4  2      2  4      2  2  2      2  2  2      2  4\n",
       "w  + 3⋅w ⋅x  + 3⋅w ⋅y  + 3⋅w ⋅z  + 3⋅w ⋅x  + 6⋅w ⋅x ⋅y  + 6⋅w ⋅x ⋅z  + 3⋅w ⋅y \n",
       "\n",
       "      2  2  2      2  4    6      4  2      4  2      2  4      2  2  2      2\n",
       " + 6⋅w ⋅y ⋅z  + 3⋅w ⋅z  + x  + 3⋅x ⋅y  + 3⋅x ⋅z  + 3⋅x ⋅y  + 6⋅x ⋅y ⋅z  + 3⋅x \n",
       "\n",
       "  4    6      4  2      2  4    6\n",
       "⋅z  + y  + 3⋅y ⋅z  + 3⋅y ⋅z  + z "
      ]
     },
     "metadata": {},
     "execution_count": 29
    }
   ],
   "metadata": {}
  },
  {
   "cell_type": "code",
   "execution_count": 30,
   "source": [
    "expand.(subs(detM, w^2 => 1-x^2-y^2-z^2))"
   ],
   "outputs": [
    {
     "output_type": "execute_result",
     "data": {
      "text/latex": [
       "$\\begin{equation*}1\\end{equation*}$\n"
      ],
      "text/plain": [
       "1"
      ]
     },
     "metadata": {},
     "execution_count": 30
    }
   ],
   "metadata": {}
  },
  {
   "cell_type": "code",
   "execution_count": null,
   "source": [],
   "outputs": [],
   "metadata": {}
  },
  {
   "cell_type": "code",
   "execution_count": 31,
   "source": [
    "M2 = subs.(subs.(M,x,0),y,0) "
   ],
   "outputs": [
    {
     "output_type": "execute_result",
     "data": {
      "text/latex": [
       "$\\left[ \\begin{array}{rrr}0&0&0\\\\w^{2} - z^{2}&- 2 w z&0\\\\2 w z&w^{2} - z^{2}&0\\\\0&0&w^{2} + z^{2}\\end{array}\\right]$\n"
      ],
      "text/plain": [
       "4×3 Matrix{Sym}:\n",
       "         0          0          0\n",
       " w^2 - z^2     -2⋅w⋅z          0\n",
       "     2⋅w⋅z  w^2 - z^2          0\n",
       "         0          0  w^2 + z^2"
      ]
     },
     "metadata": {},
     "execution_count": 31
    }
   ],
   "metadata": {}
  },
  {
   "cell_type": "code",
   "execution_count": 32,
   "source": [
    "M3 = subs.(M2, w, cos(θ))\r\n",
    "M4 = subs.(M3, z, sin(θ))"
   ],
   "outputs": [
    {
     "output_type": "execute_result",
     "data": {
      "text/latex": [
       "$\\left[ \\begin{array}{rrr}0&0&0\\\\- \\sin^{2}{\\left(θ \\right)} + \\cos^{2}{\\left(θ \\right)}&- 2 \\sin{\\left(θ \\right)} \\cos{\\left(θ \\right)}&0\\\\2 \\sin{\\left(θ \\right)} \\cos{\\left(θ \\right)}&- \\sin^{2}{\\left(θ \\right)} + \\cos^{2}{\\left(θ \\right)}&0\\\\0&0&\\sin^{2}{\\left(θ \\right)} + \\cos^{2}{\\left(θ \\right)}\\end{array}\\right]$\n"
      ],
      "text/plain": [
       "4×3 Matrix{Sym}:\n",
       "                    0                     0                    0\n",
       " -sin(θ)^2 + cos(θ)^2      -2⋅sin(θ)⋅cos(θ)                    0\n",
       "      2⋅sin(θ)⋅cos(θ)  -sin(θ)^2 + cos(θ)^2                    0\n",
       "                    0                     0  sin(θ)^2 + cos(θ)^2"
      ]
     },
     "metadata": {},
     "execution_count": 32
    }
   ],
   "metadata": {}
  },
  {
   "cell_type": "code",
   "execution_count": 33,
   "source": [
    "simplify.(M4)"
   ],
   "outputs": [
    {
     "output_type": "execute_result",
     "data": {
      "text/latex": [
       "$\\left[ \\begin{array}{rrr}0&0&0\\\\\\cos{\\left(2 θ \\right)}&- \\sin{\\left(2 θ \\right)}&0\\\\\\sin{\\left(2 θ \\right)}&\\cos{\\left(2 θ \\right)}&0\\\\0&0&1\\end{array}\\right]$\n"
      ],
      "text/plain": [
       "4×3 Matrix{Sym}:\n",
       "        0          0  0\n",
       " cos(2⋅θ)  -sin(2⋅θ)  0\n",
       " sin(2⋅θ)   cos(2⋅θ)  0\n",
       "        0          0  1"
      ]
     },
     "metadata": {},
     "execution_count": 33
    }
   ],
   "metadata": {}
  },
  {
   "cell_type": "code",
   "execution_count": 34,
   "source": [
    "M3 = subs.(M2, w, cos(θ/2))\r\n",
    "M4 = subs.(M3, z, sin(θ/2))"
   ],
   "outputs": [
    {
     "output_type": "execute_result",
     "data": {
      "text/latex": [
       "$\\left[ \\begin{array}{rrr}0&0&0\\\\- \\sin^{2}{\\left(\\frac{θ}{2} \\right)} + \\cos^{2}{\\left(\\frac{θ}{2} \\right)}&- 2 \\sin{\\left(\\frac{θ}{2} \\right)} \\cos{\\left(\\frac{θ}{2} \\right)}&0\\\\2 \\sin{\\left(\\frac{θ}{2} \\right)} \\cos{\\left(\\frac{θ}{2} \\right)}&- \\sin^{2}{\\left(\\frac{θ}{2} \\right)} + \\cos^{2}{\\left(\\frac{θ}{2} \\right)}&0\\\\0&0&\\sin^{2}{\\left(\\frac{θ}{2} \\right)} + \\cos^{2}{\\left(\\frac{θ}{2} \\right)}\\end{array}\\right]$\n"
      ],
      "text/plain": [
       "4×3 Matrix{Sym}:\n",
       "                        0                         0                        0\n",
       " -sin(θ/2)^2 + cos(θ/2)^2      -2*sin(θ/2)*cos(θ/2)                        0\n",
       "      2*sin(θ/2)*cos(θ/2)  -sin(θ/2)^2 + cos(θ/2)^2                        0\n",
       "                        0                         0  sin(θ/2)^2 + cos(θ/2)^2"
      ]
     },
     "metadata": {},
     "execution_count": 34
    }
   ],
   "metadata": {}
  },
  {
   "cell_type": "code",
   "execution_count": 35,
   "source": [
    "simplify.(M4)"
   ],
   "outputs": [
    {
     "output_type": "execute_result",
     "data": {
      "text/latex": [
       "$\\left[ \\begin{array}{rrr}0&0&0\\\\\\cos{\\left(θ \\right)}&- \\sin{\\left(θ \\right)}&0\\\\\\sin{\\left(θ \\right)}&\\cos{\\left(θ \\right)}&0\\\\0&0&1\\end{array}\\right]$\n"
      ],
      "text/plain": [
       "4×3 Matrix{Sym}:\n",
       "      0        0  0\n",
       " cos(θ)  -sin(θ)  0\n",
       " sin(θ)   cos(θ)  0\n",
       "      0        0  1"
      ]
     },
     "metadata": {},
     "execution_count": 35
    }
   ],
   "metadata": {}
  },
  {
   "cell_type": "code",
   "execution_count": null,
   "source": [],
   "outputs": [],
   "metadata": {}
  }
 ],
 "metadata": {
  "orig_nbformat": 4,
  "language_info": {
   "file_extension": ".jl",
   "name": "julia",
   "mimetype": "application/julia",
   "version": "1.7.0"
  },
  "kernelspec": {
   "display_name": "Julia 1.7.0-beta3",
   "language": "julia",
   "name": "julia-1.7"
  },
  "interpreter": {
   "hash": "cd72e96282077b7bdf767466d4ebdb29c90add992d53360a02a4d74cf0a4a18c"
  }
 },
 "nbformat": 4,
 "nbformat_minor": 2
}