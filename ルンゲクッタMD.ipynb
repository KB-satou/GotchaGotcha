{
 "cells": [
  {
   "cell_type": "code",
   "execution_count": 59,
   "metadata": {},
   "outputs": [],
   "source": [
    "using Plots"
   ]
  },
  {
   "cell_type": "markdown",
   "metadata": {},
   "source": [
    "レナードジョーンズポテンシャルは\n",
    "$$\\frac{1}{r^{12}} -\\frac{2}{r^6}$$\n",
    "ここで係数は $r=1$ のときに最小値1になるように設定した。\n",
    "\n",
    "また距離$r$の粒子間に働く力の $i$成分は\n",
    "$$ 12 \\left(\n",
    "        \\frac{1}{r^{14}}-\\frac{1}{r^8}\n",
    "    \\right) x_i $$\n",
    "$X_i$ は 距離ベクトルの$i$成分\n",
    "    \n",
    "    "
   ]
  },
  {
   "cell_type": "markdown",
   "metadata": {},
   "source": [
    "## ルンゲクッタ部分"
   ]
  },
  {
   "cell_type": "code",
   "execution_count": 60,
   "metadata": {},
   "outputs": [
    {
     "data": {
      "text/plain": [
       "ルンゲクッタ (generic function with 2 methods)"
      ]
     },
     "execution_count": 60,
     "metadata": {},
     "output_type": "execute_result"
    }
   ],
   "source": [
    "function LJ(r:: Float64)\n",
    "    return (1/r^12 - 2/r^6) \n",
    "end\n",
    "\n",
    "# 微分形\n",
    "function LJforce(r::Float64)\n",
    "    return 12*(1/r^14-1/r^8)\n",
    "end\n",
    "\n",
    "function force(x,y,N)\n",
    "    ax = Vector{Float64}(undef,N)\n",
    "    ay = Vector{Float64}(undef,N)\n",
    "    \n",
    "    ax .= 0\n",
    "    ay .= 0\n",
    "    \n",
    "    for i in 1:N-1\n",
    "        for j in i+1:N\n",
    "            ll = sqrt((x[j]-x[i])^2 + (y[j]-y[i])^2 )\n",
    "            FLJ = LJforce(ll)\n",
    "            \n",
    "            ax[i] -= FLJ * (x[j]-x[i])\n",
    "            ax[j] += FLJ * (x[j]-x[i])\n",
    "            ay[i] -= FLJ * (y[j]-y[i])\n",
    "            ay[j] += FLJ * (y[j]-y[i])\n",
    "        end\n",
    "    end\n",
    "    \n",
    "    return ax, ay\n",
    "end\n",
    "\n",
    "function ルンゲクッタ(x,y,u,v,N;\n",
    "        T=20., dt=1e-3)\n",
    "    \n",
    "    numStep = length(0:dt:T)\n",
    "    \n",
    "    xlist = Array{Float64,2}(undef,N,numStep)\n",
    "    ylist = Array{Float64,2}(undef,N,numStep)\n",
    "    ulist = Array{Float64,2}(undef,N,numStep)\n",
    "    vlist = Array{Float64,2}(undef,N,numStep)\n",
    "        \n",
    "    for (i,t) in enumerate(0:dt:T)\n",
    "        # リストに書き込む\n",
    "        xlist[:,i] = x\n",
    "        ylist[:,i] = y\n",
    "        ulist[:,i] = u\n",
    "        vlist[:,i] = v\n",
    "        \n",
    "        # 微小変化の計算\n",
    "        # k1\n",
    "        dx1 = u\n",
    "        dy1 = v\n",
    "        du1, dv1 = force(x,y,N)\n",
    "        \n",
    "        # k2\n",
    "        x1 = x .+ .5dt.*dx1 \n",
    "        y1 = y .+ .5dt.*dy1\n",
    "        u1 = u .+ .5dt.*du1\n",
    "        v1 = v .+ .5dt.*dv1\n",
    "        \n",
    "        dx2 = u1\n",
    "        dy2 = v1\n",
    "        du2, dv2 = force(x1,y1,N) \n",
    "        \n",
    "        # k3\n",
    "        x2 = x .+ .5dt.*dx2 \n",
    "        y2 = y .+ .5dt.*dy2\n",
    "        u2 = u .+ .5dt.*du2\n",
    "        v2 = v .+ .5dt.*dv2\n",
    "        \n",
    "        dx3 = u2\n",
    "        dy3 = v2\n",
    "        du3, dv3 = force(x2,y2,N)\n",
    "        \n",
    "        # k4\n",
    "        x3 = x + dt*dx3 \n",
    "        y3 = y + dt*dy3\n",
    "        u3 = u + dt*du3\n",
    "        v3 = v + dt*dv3\n",
    "        \n",
    "        dx4 = u3\n",
    "        dy4 = v3\n",
    "        du4, dv4 = force(x3,y3,N)\n",
    "        \n",
    "        # がっちゃんこ\n",
    "        x += dt*(dx1 + 2dx2 + 2dx3 + dx4)/6. \n",
    "        y += dt*(dy1 + 2dy2 + 2dy3 + dy4)/6.\n",
    "        u += dt*(du1 + 2du2 + 2du3 + du4)/6.\n",
    "        v += dt*(dv1 + 2dv2 + 2dv3 + dv4)/6.\n",
    "        \n",
    "  end\n",
    "  return 0:dt:T, xlist, ylist, ulist, vlist\n",
    "end"
   ]
  },
  {
   "cell_type": "markdown",
   "metadata": {},
   "source": [
    "# 2D 正方格子に配置"
   ]
  },
  {
   "cell_type": "code",
   "execution_count": 61,
   "metadata": {},
   "outputs": [
    {
     "data": {
      "text/plain": [
       "Square_lattice_2D (generic function with 1 method)"
      ]
     },
     "execution_count": 61,
     "metadata": {},
     "output_type": "execute_result"
    }
   ],
   "source": [
    "# 1辺 M 粒子の正方格子\n",
    "function Square_lattice_2D(M)\n",
    "  \n",
    "  x = Vector{Float64}(undef, M^2)\n",
    "  y = copy(x)\n",
    "  I = 0\n",
    "  for i in 1:M\n",
    "    for j in 1:M\n",
    "      I += 1\n",
    "      x[I] = j \n",
    "      y[I] = i\n",
    "    end\n",
    "  end\n",
    "  return x,y\n",
    "end"
   ]
  },
  {
   "cell_type": "markdown",
   "metadata": {},
   "source": [
    "## 計算メイン部分"
   ]
  },
  {
   "cell_type": "code",
   "execution_count": 65,
   "metadata": {},
   "outputs": [
    {
     "name": "stdout",
     "output_type": "stream",
     "text": [
      "  0.137077 seconds (240.07 k allocations: 38.003 MiB, 42.27% gc time)\n"
     ]
    }
   ],
   "source": [
    "\n",
    "M = 3\n",
    "x,y = Square_lattice_2D(M)\n",
    "x[1] = 1\n",
    "\n",
    "# 速度成分入力にも出力にもいらないのでは?\n",
    "u = zeros(Float64,M^2)\n",
    "v = copy(u)\n",
    "\n",
    "@time tl,xl,yl,ul,vl = ルンゲクッタ(x, y, u, v, M^2;T=50,dt=1e-2);"
   ]
  },
  {
   "cell_type": "markdown",
   "metadata": {},
   "source": [
    "## (ファイル出力)"
   ]
  },
  {
   "cell_type": "code",
   "execution_count": 75,
   "metadata": {},
   "outputs": [
    {
     "name": "stdout",
     "output_type": "stream",
     "text": [
      " 17.457798 seconds (205.49 M allocations: 4.125 GiB, 3.57% gc time)\n"
     ]
    },
    {
     "name": "stderr",
     "output_type": "stream",
     "text": [
      "┌ Info: Saved animation to \n",
      "│   fn = /Users/nohara/Dropbox/Notebook/GPUdiffusion/MD2D_2020-01-04/tmp.gif\n",
      "└ @ Plots /Users/nohara/.julia/packages/Plots/qZHsp/src/animation.jl:98\n"
     ]
    }
   ],
   "source": [
    "skip = 10\n",
    "@time @gif for i in 1:skip:length(tl)\n",
    "  scatter(xl[:,i], yl[:,i],xlims=(-1,M+2), ylims=(-1,M+2), markersize = 10,\n",
    "  aspect_ratio=:equal, legend=:none, size=(400,400))\n",
    "  end"
   ]
  },
  {
   "cell_type": "code",
   "execution_count": 66,
   "metadata": {},
   "outputs": [
    {
     "name": "stdout",
     "output_type": "stream",
     "text": [
      " 14.688793 seconds (205.49 M allocations: 4.125 GiB, 4.20% gc time)\n"
     ]
    }
   ],
   "source": [
    "skip = 10\n",
    "@time anim = @animate for i in 1:skip:length(tl)\n",
    "  scatter(xl[:,i], yl[:,i],xlims=(-1,M+2), ylims=(-1,M+2), markersize = 10,\n",
    "  aspect_ratio=:equal, legend=:none, size=(400,400))\n",
    "  end\n",
    "\n",
    "gif(anim , \"nanka.gif\")"
   ]
  },
  {
   "cell_type": "code",
   "execution_count": null,
   "metadata": {},
   "outputs": [],
   "source": []
  }
 ],
 "metadata": {
  "kernelspec": {
   "display_name": "Julia 1.3.0",
   "language": "julia",
   "name": "julia-1.3"
  },
  "language_info": {
   "file_extension": ".jl",
   "mimetype": "application/julia",
   "name": "julia",
   "version": "1.3.0"
  }
 },
 "nbformat": 4,
 "nbformat_minor": 4
}
