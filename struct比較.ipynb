{
 "cells": [
  {
   "cell_type": "code",
   "execution_count": 1,
   "metadata": {},
   "outputs": [
    {
     "data": {
      "text/plain": [
       "Int64"
      ]
     },
     "execution_count": 1,
     "metadata": {},
     "output_type": "execute_result"
    }
   ],
   "source": [
    "#double と int のほうが馴染む……馴染まない?\n",
    "double = Float64\n",
    "int = Int64"
   ]
  },
  {
   "cell_type": "markdown",
   "metadata": {},
   "source": [
    "## struct の設定\n"
   ]
  },
  {
   "cell_type": "code",
   "execution_count": 2,
   "metadata": {},
   "outputs": [
    {
     "data": {
      "text/plain": [
       "Fields2D"
      ]
     },
     "execution_count": 2,
     "metadata": {},
     "output_type": "execute_result"
    }
   ],
   "source": [
    "# 次元指定なし\n",
    "struct Fields\n",
    "  ϕ ::Array{double}\n",
    "  u ::Array{double}\n",
    "  v ::Array{double}\n",
    "end\n",
    "\n",
    "# 次元指定あり\n",
    "struct Fields2D\n",
    "  ϕ ::Array{double,2}\n",
    "  u ::Array{double,2}\n",
    "  v ::Array{double,2}\n",
    "end\n",
    "\n",
    "# 以下コンストラクタ\n",
    "function Fields(Nx,Ny)\n",
    "  ϕ = Array{double,2}(undef,Nx+2,Ny+2)\n",
    "  u = copy(ϕ)\n",
    "  v = copy(ϕ)\n",
    "  return Fields(ϕ,u,v)\n",
    "end\n",
    "function Fields2D(Nx,Ny)\n",
    "  ϕ = Array{double,2}(undef,Nx+2,Ny+2)\n",
    "  u = copy(ϕ)\n",
    "  v = copy(ϕ)\n",
    "  return Fields2D(ϕ,u,v)\n",
    "end"
   ]
  },
  {
   "cell_type": "code",
   "execution_count": 3,
   "metadata": {},
   "outputs": [
    {
     "data": {
      "text/plain": [
       "syoki"
      ]
     },
     "execution_count": 3,
     "metadata": {},
     "output_type": "execute_result"
    }
   ],
   "source": [
    "\"計算の初期条件設定\"\n",
    "function syoki(field)\n",
    "  field.ϕ .= 0.\n",
    "  field.u .=1\n",
    "  field.v .=1\n",
    "  \n",
    "  field.ϕ[2:51, 2:101] .= 1.\n",
    "end"
   ]
  },
  {
   "cell_type": "code",
   "execution_count": 4,
   "metadata": {},
   "outputs": [],
   "source": [
    "\n",
    "Nx = 300; Ny = 150\n",
    "F = Fields(Nx,Ny)\n",
    "F2 = Fields2D(Nx,Ny);\n",
    "syoki(F)\n",
    "syoki(F2);\n",
    "\n"
   ]
  },
  {
   "cell_type": "code",
   "execution_count": 5,
   "metadata": {},
   "outputs": [
    {
     "data": {
      "text/plain": [
       "t1_x1_kazakami"
      ]
     },
     "execution_count": 5,
     "metadata": {},
     "output_type": "execute_result"
    }
   ],
   "source": [
    "\"2次元のの移流方程式\"\n",
    "function t1_x1_kazakami(field;dx=1,dt=1e-1,T=500,step=2)\n",
    "  Nx,Ny = size(field.ϕ)\n",
    "  \n",
    "  Bx = 2:Nx-1; By = 2:Ny-1\n",
    "  dϕ = copy(field.ϕ)\n",
    "  Lϕ = Array{Float64,3}(undef,Nx,Ny,div(length(0:dt:T),step)+1)\n",
    "  \n",
    "  \n",
    "  for(i,t) in enumerate(0:dt:T)\n",
    "    \n",
    "    #Periodic Boundary Condition\n",
    "    #boundary\n",
    "    #edge\n",
    "    for x in Bx\n",
    "      field.ϕ[x,1] = field.ϕ[x,Ny-1]\n",
    "      field.ϕ[x,Ny] = field.ϕ[x,2]\n",
    "    end\n",
    "    for y in By\n",
    "      field.ϕ[1,y] = field.ϕ[Nx-1,y]\n",
    "      field.ϕ[Nx,y] = field.ϕ[2,y]\n",
    "    end\n",
    "    \n",
    "    #corner\n",
    "    field.ϕ[1,1]=field.ϕ[Nx-1,Ny-1]\n",
    "    field.ϕ[Nx,1]=field.ϕ[2,Ny-1]\n",
    "    field.ϕ[1,Ny]=field.ϕ[Nx-1,2]\n",
    "    field.ϕ[Nx,Ny]=field.ϕ[2,2]\n",
    "    \n",
    "    for y in By, x in Bx\n",
    "      dϕ[x,y] = (\n",
    "        field.u[x,y] * 1/dx * (field.ϕ[x,y]-field.ϕ[x-1,y]) \n",
    "        + field.v[x,y]  * 1/dx * (field.ϕ[x,y]-field.ϕ[x,y-1])\n",
    "        )\n",
    "    end\n",
    "    \n",
    "    for y in By, x in Bx\n",
    "      field.ϕ[x,y] -= dt*dϕ[x,y]\n",
    "    end\n",
    "    \n",
    "    if i%step ==1\n",
    "      Lϕ[:,:,div(i,step)+1] .= field.ϕ\n",
    "    end\n",
    "    if i%(div(length(0:dt:T),10)) ==1\n",
    "      #println(i, \"//\",length(0:dt:T) )\n",
    "    end\n",
    "  end\n",
    "end"
   ]
  },
  {
   "cell_type": "markdown",
   "metadata": {},
   "source": [
    "# 比較\n",
    "同じ関数にそれぞれの構造体を投げたときの時間比較"
   ]
  },
  {
   "cell_type": "code",
   "execution_count": 6,
   "metadata": {},
   "outputs": [
    {
     "name": "stdout",
     "output_type": "stream",
     "text": [
      "次元設定なし\n",
      "  2.836653 seconds (101.62 M allocations: 1.720 GiB, 6.13% gc time)\n",
      "  2.369190 seconds (100.16 M allocations: 1.647 GiB, 2.16% gc time)\n",
      "次元指定あり\n",
      "  0.126995 seconds (137.76 k allocations: 24.872 MiB)\n",
      "  0.036511 seconds (65 allocations: 18.215 MiB, 10.54% gc time)\n"
     ]
    }
   ],
   "source": [
    "println(\"次元設定なし\")\n",
    "@time L = t1_x1_kazakami(F;dt=1e-2,T=1)\n",
    "@time L = t1_x1_kazakami(F;dt=1e-2,T=1)\n",
    "\n",
    "println(\"次元指定あり\")\n",
    "@time L2 = t1_x1_kazakami(F2;dt=1e-2,T=1)\n",
    "@time L2 = t1_x1_kazakami(F2;dt=1e-2,T=1)"
   ]
  },
  {
   "cell_type": "code",
   "execution_count": null,
   "metadata": {},
   "outputs": [],
   "source": []
  }
 ],
 "metadata": {
  "kernelspec": {
   "display_name": "Julia 1.3.0",
   "language": "julia",
   "name": "julia-1.3"
  },
  "language_info": {
   "file_extension": ".jl",
   "mimetype": "application/julia",
   "name": "julia",
   "version": "1.3.0"
  }
 },
 "nbformat": 4,
 "nbformat_minor": 4
}
