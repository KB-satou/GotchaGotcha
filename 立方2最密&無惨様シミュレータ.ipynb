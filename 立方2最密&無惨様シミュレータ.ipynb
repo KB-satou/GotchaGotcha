{
 "cells": [
  {
   "cell_type": "code",
   "execution_count": 1,
   "metadata": {},
   "outputs": [],
   "source": [
    "using Makie"
   ]
  },
  {
   "cell_type": "code",
   "execution_count": 2,
   "metadata": {},
   "outputs": [
    {
     "data": {
      "text/plain": [
       "ルンゲクッタ (generic function with 1 method)"
      ]
     },
     "execution_count": 2,
     "metadata": {},
     "output_type": "execute_result"
    }
   ],
   "source": [
    "function LJ(r:: Float64)\n",
    "    return (1/r^12 - 2/r^6) \n",
    "end\n",
    "\n",
    "# 微分形\n",
    "function LJforce(r::Float64)\n",
    "    return 12*(1/r^14-1/r^8)\n",
    "end\n",
    "\n",
    "function force(x,y,z,N)\n",
    "    ax = Vector{Float64}(undef,N)\n",
    "    ay = Vector{Float64}(undef,N)\n",
    "    az = Vector{Float64}(undef,N)\n",
    "\n",
    "    ax .= 0\n",
    "    ay .= 0\n",
    "    az .= 0\n",
    "    \n",
    "    for i in 1:N-1\n",
    "        for j in i+1:N\n",
    "            ll = sqrt((x[j]-x[i])^2 + (y[j]-y[i])^2 + (z[j]-z[i])^2)\n",
    "            FLJ = LJforce(ll)\n",
    "            \n",
    "            ax[i] -= FLJ * (x[j]-x[i])\n",
    "            ax[j] += FLJ * (x[j]-x[i])\n",
    "            ay[i] -= FLJ * (y[j]-y[i])\n",
    "            ay[j] += FLJ * (y[j]-y[i])\n",
    "            az[i] -= FLJ * (z[j]-z[i])\n",
    "            az[j] += FLJ * (z[j]-z[i])\n",
    "        end\n",
    "    end\n",
    "    \n",
    "    return ax, ay, az\n",
    "end\n",
    "\n",
    "function ルンゲクッタ(x,y,z,u,v,w,N;\n",
    "        T=20., dt=1e-3)\n",
    "    \n",
    "    numStep = length(0:dt:T)\n",
    "    \n",
    "    xlist = Array{Float64,2}(undef,N,numStep)\n",
    "    ylist = Array{Float64,2}(undef,N,numStep)\n",
    "    zlist = Array{Float64,2}(undef,N,numStep)\n",
    "    ulist = Array{Float64,2}(undef,N,numStep)\n",
    "    vlist = Array{Float64,2}(undef,N,numStep)\n",
    "    wlist = Array{Float64,2}(undef,N,numStep) \n",
    "    for (i,t) in enumerate(0:dt:T)\n",
    "        # リストに書き込む\n",
    "        xlist[:,i] = x\n",
    "        ylist[:,i] = y\n",
    "        zlist[:,i] = z\n",
    "        ulist[:,i] = u\n",
    "        vlist[:,i] = v\n",
    "        wlist[:,i] = w\n",
    "        # 微小変化の計算\n",
    "        # k1\n",
    "        dx1 = u\n",
    "        dy1 = v\n",
    "        dz1 = w\n",
    "        du1, dv1, dw1 = force(x,y,z,N)\n",
    "        \n",
    "        # k2\n",
    "        x1 = x .+ .5dt.*dx1 \n",
    "        y1 = y .+ .5dt.*dy1\n",
    "        z1 = z .+ .5dt.*dz1 \n",
    "    u1 = u .+ .5dt.*du1\n",
    "        v1 = v .+ .5dt.*dv1\n",
    "        w1 = w .+ .5dt.*dw1\n",
    "        dx2 = u1\n",
    "        dy2 = v1\n",
    "        dz2 = w1\n",
    "        du2, dv2, dw2 = force(x1,y1,z1,N) \n",
    "        \n",
    "        # k3\n",
    "        x2 = x .+ .5dt.*dx2 \n",
    "        y2 = y .+ .5dt.*dy2\n",
    "        z2 = z .+ .5dt.*dz2\n",
    "        u2 = u .+ .5dt.*du2\n",
    "        v2 = v .+ .5dt.*dv2\n",
    "        w2 = w .+ .5dt.*dw2\n",
    "        dx3 = u2\n",
    "        dy3 = v2\n",
    "    dz3 = w2\n",
    "        du3, dv3, dw3 = force(x2,y2,z2,N)\n",
    "        \n",
    "        # k4\n",
    "        x3 = x + dt*dx3 \n",
    "        y3 = y + dt*dy3\n",
    "    z3 = z + dt*dz3\n",
    "        u3 = u + dt*du3\n",
    "        v3 = v + dt*dv3\n",
    "        w3 = w + dt*dw3\n",
    "        dx4 = u3\n",
    "        dy4 = v3\n",
    "    dz4 = w3\n",
    "        du4, dv4, dw4 = force(x3,y3,z3,N)\n",
    "        \n",
    "        # がっちゃんこ\n",
    "        x += dt*(dx1 + 2dx2 + 2dx3 + dx4)/6. \n",
    "        y += dt*(dy1 + 2dy2 + 2dy3 + dy4)/6.\n",
    "        z += dt*(dz1 + 2dz2 + 2dz3 + dz4)/6.\n",
    "    \n",
    "        u += dt*(du1 + 2du2 + 2du3 + du4)/6.\n",
    "        v += dt*(dv1 + 2dv2 + 2dv3 + dv4)/6.\n",
    "        w += dt*(dw1 + 2dw2 + 2dw3 + dw4)/6.\n",
    "        \n",
    "  end\n",
    "  return 0:dt:T, xlist, ylist,zlist, ulist, vlist, wlist\n",
    "end"
   ]
  },
  {
   "cell_type": "code",
   "execution_count": 4,
   "metadata": {},
   "outputs": [
    {
     "data": {
      "text/plain": [
       "1800"
      ]
     },
     "execution_count": 4,
     "metadata": {},
     "output_type": "execute_result"
    }
   ],
   "source": [
    "K = 10\n",
    "L = 10\n",
    "M = 18\n",
    "N = K*L*M\n",
    "\n",
    "x = Vector{Float64}(undef, N)\n",
    "y = copy(x)\n",
    "z = copy(x)\n",
    "\n",
    "x[1]=0\n",
    "y[1]=0\n",
    "z[1]=0\n",
    "\n",
    "I = 0\n",
    "for i in 1:K\n",
    "  for j in 1:L\n",
    "    for k in 1:M\n",
    "      I+=1\n",
    "      x[I] = i*1.\n",
    "      y[I] = j*1.\n",
    "      z[I] = k*1.\n",
    "  \n",
    "    end\n",
    "  end\n",
    "end\n",
    "\n",
    "N"
   ]
  },
  {
   "cell_type": "code",
   "execution_count": 5,
   "metadata": {},
   "outputs": [
    {
     "name": "stdout",
     "output_type": "stream",
     "text": [
      "6107.250434 seconds (2.69 M allocations: 5.382 GiB, 0.02% gc time)\n"
     ]
    }
   ],
   "source": [
    "\n",
    "# 速度成分入力にも出力にもいらないのでは?\n",
    "u = zeros(Float64, N)\n",
    "v = copy(u)\n",
    "w = copy(u)\n",
    "\n",
    "@time tl,xl,yl,zl,ul,vl ,wl= ルンゲクッタ(x, y,z, u, v,w, N;T=50,dt=1e-2);"
   ]
  },
  {
   "cell_type": "code",
   "execution_count": 10,
   "metadata": {},
   "outputs": [
    {
     "name": "stdout",
     "output_type": "stream",
     "text": [
      " 32.192431 seconds (993.96 k allocations: 1.493 GiB, 1.54% gc time)\n"
     ]
    }
   ],
   "source": [
    "skip2 = 10\n",
    "scene = Scene(resolution = (1000,1000))\n",
    "mystep = Node(1)\n",
    "\n",
    "scene = Makie.meshscatter!(\n",
    "  scene, \n",
    "  lift(i -> xl[:,i],mystep),\n",
    "  lift(i -> yl[:,i],mystep),\n",
    "  lift(i -> zl[:,i],mystep),\n",
    "  markersize = .5,\n",
    "  color = :pink,\n",
    "  limits =FRect3D(Vec3f0(0.,0.,0.), Vec3f0(M+1,M+1,M+1))\n",
    " #limits = FRect(-2. , -2., 1.5M+4., 1.5M+4.)\n",
    "  )\n",
    "@time record(scene, \"muzan.mp4\",1:skip2:length(tl)) do i\n",
    "  #println(i)\n",
    "  mystep[]=i\n",
    "  end;"
   ]
  },
  {
   "cell_type": "code",
   "execution_count": null,
   "metadata": {},
   "outputs": [],
   "source": []
  }
 ],
 "metadata": {
  "kernelspec": {
   "display_name": "Julia 1.3.0",
   "language": "julia",
   "name": "julia-1.3"
  },
  "language_info": {
   "file_extension": ".jl",
   "mimetype": "application/julia",
   "name": "julia",
   "version": "1.3.0"
  }
 },
 "nbformat": 4,
 "nbformat_minor": 4
}
