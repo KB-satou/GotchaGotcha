{
 "cells": [
  {
   "cell_type": "markdown",
   "metadata": {},
   "source": [
    "# 二次元移流方程式\n",
    "$$\\partial_t \\phi + u\\cdot \\nabla \\phi = 0$$\n",
    "+ 矩形 の時間発展を追う\n",
    "+ 時間差分はオイラー法\n",
    "+ 空間差分は風上差分\n",
    "+ $u_x, u_y > 0$ を仮定\n",
    "\n",
    "## TODO\n",
    "+ 境界を 0 と N+1 にしたいけどなんかないのかな\n",
    "+ 時間差分の方法とか空間差分の方法とか検証したい\n",
    "+ $u$ を非一様 (特に渦) にしたい"
   ]
  },
  {
   "cell_type": "code",
   "execution_count": 1,
   "metadata": {},
   "outputs": [],
   "source": [
    "using Makie"
   ]
  },
  {
   "cell_type": "code",
   "execution_count": 2,
   "metadata": {},
   "outputs": [
    {
     "data": {},
     "execution_count": 2,
     "metadata": {},
     "output_type": "execute_result"
    }
   ],
   "source": [
    "\n",
    "Nx = 300; Ny = 150\n",
    "ϕ= Array{Float64,2}(undef,Nx+2, Ny+2)\n",
    "u = copy(ϕ)\n",
    "v = copy(ϕ)\n",
    "u .= 1\n",
    "v .= 1\n",
    "ϕ .= 0\n",
    "ϕ[2:51,2:101] .= 1.\n",
    "\n",
    "heatmap(ϕ[:,:])\n"
   ]
  },
  {
   "cell_type": "code",
   "execution_count": 3,
   "metadata": {},
   "outputs": [
    {
     "data": {
      "text/plain": [
       "t1_x1_kazakami (generic function with 1 method)"
      ]
     },
     "execution_count": 3,
     "metadata": {},
     "output_type": "execute_result"
    }
   ],
   "source": [
    "function t1_x1_kazakami(ϕ,u,v;dx=1,dt=1e-1,T=500,step=10)\n",
    "  Nx,Ny = size(ϕ)\n",
    "  \n",
    "  Bx = 2:Nx-1; By = 2:Ny-1\n",
    "  dϕ = copy(ϕ)\n",
    "  Lϕ = Array{Float64,3}(undef,Nx,Ny,div(length(0:dt:T),step)+1)\n",
    "  \n",
    "  \n",
    "  for(i,t) in enumerate(0:dt:T)\n",
    "    #Periodic Boundary Condition\n",
    "    #boundary\n",
    "    #edge\n",
    "    for x in Bx\n",
    "      ϕ[x,1] = ϕ[x,Ny-1]\n",
    "      ϕ[x,Ny] = ϕ[x,2]\n",
    "    end\n",
    "    for y in By\n",
    "      ϕ[1,y] = ϕ[Nx-1,y]\n",
    "      ϕ[Nx,y] = ϕ[2,y]\n",
    "    end\n",
    "    \n",
    "    #corner\n",
    "    ϕ[1,1]=ϕ[Nx-1,Ny-1]\n",
    "    ϕ[Nx,1]=ϕ[2,Ny-1]\n",
    "    ϕ[1,Ny]=ϕ[Nx-1,2]\n",
    "    ϕ[Nx,Ny]=ϕ[2,2]\n",
    "    \n",
    "    for y in By, x in Bx\n",
    "      dϕ[x,y] = u[x,y] * 1/dx * (ϕ[x,y]-ϕ[x-1,y])+ v[x,y]  * 1/dx * (ϕ[x,y]-ϕ[x,y-1])      \n",
    "    end\n",
    "    \n",
    "    for y in By, x in Bx\n",
    "      ϕ[x,y] -= dt*dϕ[x,y]\n",
    "    end\n",
    "    \n",
    "    if i%step ==1\n",
    "      Lϕ[:,:,div(i,step)+1] .= ϕ\n",
    "    end\n",
    "    if i%(div(length(0:dt:T),10)) ==1\n",
    "      println(i, \"//\",length(0:dt:T) )\n",
    "    end\n",
    "  end\n",
    "  return Lϕ\n",
    "end"
   ]
  },
  {
   "cell_type": "code",
   "execution_count": 4,
   "metadata": {},
   "outputs": [
    {
     "name": "stdout",
     "output_type": "stream",
     "text": [
      "1//5001\n",
      "501//5001\n",
      "1001//5001\n",
      "1501//5001\n",
      "2001//5001\n",
      "2501//5001\n",
      "3001//5001\n",
      "3501//5001\n",
      "4001//5001\n",
      "4501//5001\n",
      "5001//5001\n",
      "  1.249782 seconds (850.46 k allocations: 217.688 MiB, 2.18% gc time)\n"
     ]
    }
   ],
   "source": [
    "@time L = t1_x1_kazakami(ϕ,u,v);"
   ]
  },
  {
   "cell_type": "code",
   "execution_count": 5,
   "metadata": {},
   "outputs": [
    {
     "data": {
      "text/plain": [
       "movie"
      ]
     },
     "execution_count": 5,
     "metadata": {},
     "output_type": "execute_result"
    }
   ],
   "source": [
    "\"動画作成\"\n",
    "function movie(ϕ; fname = \"test.mp4\")\n",
    "  scene = Scene(resolution = (1000,500))\n",
    "  mystep = Node(1)\n",
    "  \n",
    "  scene = heatmap!(\n",
    "    scene,\n",
    "    lift(i -> ϕ[:,:,i],mystep),\n",
    "    )\n",
    "   \n",
    "  \n",
    "  record(scene, fname, 1:size(ϕ)[3]) do i\n",
    "    mystep[] = i\n",
    "  end\n",
    "end"
   ]
  },
  {
   "cell_type": "code",
   "execution_count": 6,
   "metadata": {},
   "outputs": [
    {
     "name": "stdout",
     "output_type": "stream",
     "text": [
      " 44.413350 seconds (43.10 M allocations: 3.166 GiB, 1.65% gc time)\n"
     ]
    },
    {
     "data": {
      "text/plain": [
       "\"2D_1.mp4\""
      ]
     },
     "execution_count": 6,
     "metadata": {},
     "output_type": "execute_result"
    }
   ],
   "source": [
    "@time movie(L;fname = \"2D_1.mp4\")"
   ]
  },
  {
   "cell_type": "code",
   "execution_count": null,
   "metadata": {},
   "outputs": [],
   "source": []
  },
  {
   "cell_type": "code",
   "execution_count": null,
   "metadata": {},
   "outputs": [],
   "source": []
  }
 ],
 "metadata": {
  "kernelspec": {
   "display_name": "Julia 1.3.0",
   "language": "julia",
   "name": "julia-1.3"
  },
  "language_info": {
   "file_extension": ".jl",
   "mimetype": "application/julia",
   "name": "julia",
   "version": "1.3.0"
  }
 },
 "nbformat": 4,
 "nbformat_minor": 4
}
