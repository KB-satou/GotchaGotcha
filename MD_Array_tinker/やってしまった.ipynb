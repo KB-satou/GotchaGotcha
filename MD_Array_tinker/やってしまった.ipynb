{
 "cells": [
  {
   "cell_type": "markdown",
   "metadata": {},
   "source": [
    "# 見て! ルンゲクッタが踊っているよ\n",
    "# かわいいね"
   ]
  },
  {
   "cell_type": "code",
   "execution_count": 1,
   "metadata": {},
   "outputs": [
    {
     "data": {
      "text/plain": [
       "calforce (generic function with 1 method)"
      ]
     },
     "execution_count": 1,
     "metadata": {},
     "output_type": "execute_result"
    }
   ],
   "source": [
    "# 微分形\n",
    "function LJforce(r2::Float64)\n",
    "    return 12*(1-r2^3)/r2^7\n",
    "end\n",
    "\n",
    "function calforce(r,f,N)\n",
    "  f .=0\n",
    "  for i in 1:N-1, j in i+1:N\n",
    "    r2 = (r[i,1]-r[j,1])^2 +(r[i,2]-r[j,2])^2 +(r[i,3]-r[j,3])^2     \n",
    "    r2 = LJforce(r2)\n",
    "    \n",
    "    f[i,1] -= r2 * (r[j,1]-r[i,1]) \n",
    "    f[j,1] += r2 * (r[j,1]-r[i,1])\n",
    "    f[i,2] -= r2 * (r[j,2]-r[i,2]) \n",
    "    f[j,2] += r2 * (r[j,2]-r[i,2]) \n",
    "    f[i,3] -= r2 * (r[j,3]-r[i,3]) \n",
    "    f[j,3] += r2 * (r[j,3]-r[i,3]) \n",
    "    \n",
    "  end\n",
    "  \n",
    "end"
   ]
  },
  {
   "cell_type": "code",
   "execution_count": 2,
   "metadata": {},
   "outputs": [
    {
     "data": {
      "text/plain": [
       "ルンゲクッタ (generic function with 1 method)"
      ]
     },
     "execution_count": 2,
     "metadata": {},
     "output_type": "execute_result"
    }
   ],
   "source": [
    "function ルンゲクッタ(r::Array{Float64,2},N::Int64,\n",
    "    rlist::Array{Float64,3},\n",
    "    vlist::Array{Float64,3}; \n",
    "    T=20., dt=1e-3, repair = 50, Mcutoff=400, gamma = .99)\n",
    "    \n",
    "\n",
    "  # はい、ここ盛大にミスってる\n",
    "  v = r;\n",
    "  @. v = 0.\n",
    "  dr1 =r; dr2=r; dr3=r; dr4=r\n",
    "  dv1 =r; dv2=r; dv3=r; dv4=r\n",
    "  r1 = r; r2=r; r3=r; r4=r\n",
    "  v1 = r; v2=r; v3=r; v4=r\n",
    "  dr = r; dv = v\n",
    "  \n",
    "  for (i,t) in enumerate(0:dt:T)\n",
    "    rlist[:,:,i] = r\n",
    "    vlist[:,:,i] = v\n",
    "    \n",
    "    dr1 = v\n",
    "    calforce(r,dv1,N)\n",
    "    \n",
    "    @. r1 = r + .5dt * dr1\n",
    "    @. v1 = v + .5dt * dv1\n",
    "    \n",
    "    dr2 = v1\n",
    "    calforce(r1,dv2, N) \n",
    "\n",
    "    # k3\n",
    "    @. r2 = r + .5dt * dr2 \n",
    "    @. v2 = v + .5dt * dv2\n",
    "    \n",
    "    dr3 = v2\n",
    "    calforce(r2,dv3, N)\n",
    "\n",
    "    # k4\n",
    "    @. r3 = r + dt*dr3 \n",
    "    @. v3 = v + dt*dv3\n",
    "    \n",
    "    dr4 = v3\n",
    "    calforce(r3,dv4, N)\n",
    "\n",
    "    @. dr = (dt/6.)*(dr1 + 2dr2 + 2dr3 + dr4) \n",
    "    @. dv = (dt/6.)*(dv1 + 2dv2 + 2dv3 + dv4)\n",
    "    @. r += dr    \n",
    "    @. v += dv \n",
    "    \n",
    "  end\n",
    "  \n",
    "end\n"
   ]
  },
  {
   "cell_type": "code",
   "execution_count": 3,
   "metadata": {},
   "outputs": [
    {
     "data": {
      "text/plain": [
       "100"
      ]
     },
     "execution_count": 3,
     "metadata": {},
     "output_type": "execute_result"
    }
   ],
   "source": [
    "K = 4\n",
    "L = 5\n",
    "M = 5\n",
    "N = K*L*M\n",
    "\n",
    "r = Array{Float64,2}(undef,N,3)\n",
    "I = 0\n",
    "for i in 1:K\n",
    "  for j in 1:L\n",
    "    for k in 1:M\n",
    "      I+=1\n",
    "      r[I,1] = i*1.\n",
    "      r[I,2] = j*1.\n",
    "      r[I,3] = k*1.\n",
    "  \n",
    "    end\n",
    "  end\n",
    "end\n",
    "\n",
    "N"
   ]
  },
  {
   "cell_type": "code",
   "execution_count": 4,
   "metadata": {},
   "outputs": [
    {
     "name": "stdout",
     "output_type": "stream",
     "text": [
      "  2.718216 seconds (2.76 M allocations: 128.286 MiB, 3.48% gc time)\n",
      "  1.933918 seconds (10 allocations: 432 bytes)\n"
     ]
    }
   ],
   "source": [
    "dt = 1e-2\n",
    "T = 20\n",
    "\n",
    "numStep = length(0:dt:T)\n",
    "rlist = Array{Float64,3}(undef,N,3,numStep)\n",
    "vlist = Array{Float64,3}(undef,N,3,numStep)\n",
    "\n",
    "r2 = copy(r)\n",
    "# 天ぷら 天ぷら\n",
    "@time ルンゲクッタ(r,N, rlist, vlist;T=T, dt=dt);\n",
    "# 猪突ウ 猛進!!!\n",
    "@time ルンゲクッタ(r2,N, rlist, vlist;T=T, dt=dt);"
   ]
  },
  {
   "cell_type": "code",
   "execution_count": 5,
   "metadata": {},
   "outputs": [
    {
     "data": {
      "text/plain": [
       "100×3 Array{Float64,2}:\n",
       " NaN  NaN  NaN\n",
       " NaN  NaN  NaN\n",
       " NaN  NaN  NaN\n",
       " NaN  NaN  NaN\n",
       " NaN  NaN  NaN\n",
       " NaN  NaN  NaN\n",
       " NaN  NaN  NaN\n",
       " NaN  NaN  NaN\n",
       " NaN  NaN  NaN\n",
       " NaN  NaN  NaN\n",
       " NaN  NaN  NaN\n",
       " NaN  NaN  NaN\n",
       " NaN  NaN  NaN\n",
       "   ⋮          \n",
       " NaN  NaN  NaN\n",
       " NaN  NaN  NaN\n",
       " NaN  NaN  NaN\n",
       " NaN  NaN  NaN\n",
       " NaN  NaN  NaN\n",
       " NaN  NaN  NaN\n",
       " NaN  NaN  NaN\n",
       " NaN  NaN  NaN\n",
       " NaN  NaN  NaN\n",
       " NaN  NaN  NaN\n",
       " NaN  NaN  NaN\n",
       " NaN  NaN  NaN"
      ]
     },
     "execution_count": 5,
     "metadata": {},
     "output_type": "execute_result"
    }
   ],
   "source": [
    "rlist[:,:,3]"
   ]
  },
  {
   "cell_type": "markdown",
   "metadata": {},
   "source": [
    "# 配列を copy しないので、\n",
    "# 計算が発散してしまいました\n",
    "# おれのせいです\n",
    "# あ～あ"
   ]
  }
 ],
 "metadata": {
  "kernelspec": {
   "display_name": "Julia 1.3.0",
   "language": "julia",
   "name": "julia-1.3"
  },
  "language_info": {
   "file_extension": ".jl",
   "mimetype": "application/julia",
   "name": "julia",
   "version": "1.3.0"
  }
 },
 "nbformat": 4,
 "nbformat_minor": 4
}
