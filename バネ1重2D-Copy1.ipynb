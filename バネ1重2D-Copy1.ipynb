{
 "cells": [
  {
   "cell_type": "code",
   "execution_count": 1,
   "metadata": {},
   "outputs": [],
   "source": [
    "using Makie\n",
    "using Random"
   ]
  },
  {
   "cell_type": "code",
   "execution_count": 2,
   "metadata": {},
   "outputs": [
    {
     "data": {
      "text/plain": [
       "force1Body2D (generic function with 1 method)"
      ]
     },
     "execution_count": 2,
     "metadata": {},
     "output_type": "execute_result"
    }
   ],
   "source": [
    "function force1Body2D(x,y, dl,k ; m=1., g=9.8)\n",
    "    θ = atan(y,x)\n",
    "    l = sqrt(x^2 + y^2)\n",
    "    \n",
    "    ax = -k * (l-dl) * cos(θ) + g\n",
    "    ay = -k * (l-dl) * sin(θ) \n",
    "    \n",
    "    return ax, ay\n",
    "end\n",
    "\n"
   ]
  },
  {
   "cell_type": "markdown",
   "metadata": {},
   "source": [
    "# オイラー1体2D"
   ]
  },
  {
   "cell_type": "code",
   "execution_count": 3,
   "metadata": {},
   "outputs": [
    {
     "data": {
      "text/plain": [
       "オイラー (generic function with 1 method)"
      ]
     },
     "execution_count": 3,
     "metadata": {},
     "output_type": "execute_result"
    }
   ],
   "source": [
    "function オイラー(θ,ω;T=20., dt=1e-3,k=1e3)\n",
    "    dl = 1.0\n",
    "    m = 1.\n",
    "    g = 9.8\n",
    "    \n",
    "    numStep = length(0:dt:T)\n",
    "    \n",
    "    x = dl * cos(θ)\n",
    "    y = dl * sin(θ)\n",
    "    u =  -dl * ω * sin(θ)\n",
    "    v =  dl * ω * cos(θ)\n",
    "    \n",
    "    xlist = Vector{Float64}(undef,numStep)\n",
    "    ylist = Vector{Float64}(undef,numStep)\n",
    "    ulist = Vector{Float64}(undef,numStep)\n",
    "    vlist = Vector{Float64}(undef,numStep)\n",
    "    \n",
    "    for (i,t) in enumerate(0:dt:T)\n",
    "        # リストに書き込む\n",
    "        xlist[i] = x\n",
    "        ylist[i] = y\n",
    "        ulist[i] = u\n",
    "        vlist[i] = v\n",
    "        \n",
    "        dx, dy = dt * u , dt * v\n",
    "        du, dv = dt .* force1Body2D(x,y,dl,k)\n",
    "        \n",
    "        x += dx\n",
    "        y += dy\n",
    "        u += du\n",
    "        v += dv\n",
    "        \n",
    "    end\n",
    "    return 0:dt:T, xlist, ylist, ulist, vlist\n",
    "end"
   ]
  },
  {
   "cell_type": "markdown",
   "metadata": {},
   "source": [
    "# ホイン法 1体 2D"
   ]
  },
  {
   "cell_type": "code",
   "execution_count": 4,
   "metadata": {},
   "outputs": [
    {
     "data": {
      "text/plain": [
       "ホイン (generic function with 1 method)"
      ]
     },
     "execution_count": 4,
     "metadata": {},
     "output_type": "execute_result"
    }
   ],
   "source": [
    "function ホイン(θ, ω; T=20., dt=1e-3,k=1e3)\n",
    "    dl = 1.\n",
    "    m = 1.\n",
    "    g = 9.8\n",
    "    \n",
    "    numStep = length(0:dt:T)\n",
    "    \n",
    "    x, y = dl * [cos(θ) sin(θ)]\n",
    "    u, v =  dl * ω * [-sin(θ) cos(θ)]\n",
    "    \n",
    "    xlist = Vector{Float64}(undef,numStep)\n",
    "    ylist = Vector{Float64}(undef,numStep)\n",
    "    ulist = Vector{Float64}(undef,numStep)\n",
    "    vlist = Vector{Float64}(undef,numStep)\n",
    "    \n",
    "    for (i,t) in enumerate(0:dt:T)\n",
    "        # リストに書き込む\n",
    "        xlist[i] = x\n",
    "        ylist[i] = y\n",
    "        ulist[i] = u\n",
    "        vlist[i] = v\n",
    "        \n",
    "        # 微小変化の計算\n",
    "        dx1 = u\n",
    "        dy1 = v\n",
    "        du1, dv1 = force1Body2D(x,y,dl,k)\n",
    "        \n",
    "        x1 = x + dt*dx1 \n",
    "        y1 = y + dt*dy1\n",
    "        u1 = u + dt*du1\n",
    "        v1 = v + dt*dv1\n",
    "        \n",
    "        dx2 = u1\n",
    "        dy2 = v1\n",
    "        du2, dv2 = force1Body2D(x1,y1,dl,k)\n",
    "        x += .5dt*(dx1 + dx2) \n",
    "        y += .5dt*(dy1 + dy2)\n",
    "        u += .5dt*(du1 + du2)\n",
    "        v += .5dt*(dv1 + dv2)\n",
    "        \n",
    "    end\n",
    "    return 0:dt:T, xlist, ylist, ulist, vlist\n",
    "end\n",
    "\n",
    "\n"
   ]
  },
  {
   "cell_type": "markdown",
   "metadata": {},
   "source": [
    "# ルンゲクッタ 1体 2D"
   ]
  },
  {
   "cell_type": "code",
   "execution_count": 5,
   "metadata": {},
   "outputs": [
    {
     "data": {
      "text/plain": [
       "ルンゲクッタ (generic function with 1 method)"
      ]
     },
     "execution_count": 5,
     "metadata": {},
     "output_type": "execute_result"
    }
   ],
   "source": [
    "function ルンゲクッタ(θ, ω; T=20., dt=1e-3,k=1e3)\n",
    "    dl = 1.\n",
    "    m = 1.\n",
    "    g = 9.8\n",
    "    \n",
    "    numStep = length(0:dt:T)\n",
    "    \n",
    "    x, y = dl * [cos(θ) sin(θ)]\n",
    "    u, v =  dl * ω * [-sin(θ) cos(θ)]\n",
    "    \n",
    "    xlist = Vector{Float64}(undef,numStep)\n",
    "    ylist = Vector{Float64}(undef,numStep)\n",
    "    ulist = Vector{Float64}(undef,numStep)\n",
    "    vlist = Vector{Float64}(undef,numStep)\n",
    "    \n",
    "    for (i,t) in enumerate(0:dt:T)\n",
    "        # リストに書き込む\n",
    "        xlist[i] = x\n",
    "        ylist[i] = y\n",
    "        ulist[i] = u\n",
    "        vlist[i] = v\n",
    "        \n",
    "        # 微小変化の計算\n",
    "        # k1\n",
    "        dx1 = u\n",
    "        dy1 = v\n",
    "        du1, dv1 = force1Body2D(x,y,dl,k)\n",
    "        \n",
    "        # k2\n",
    "        x1 = x + .5dt*dx1 \n",
    "        y1 = y + .5dt*dy1\n",
    "        u1 = u + .5dt*du1\n",
    "        v1 = v + .5dt*dv1\n",
    "        \n",
    "        dx2 = u1\n",
    "        dy2 = v1\n",
    "        du2, dv2 = force1Body2D(x1,y1,dl,k)\n",
    "        \n",
    "        # k3\n",
    "        x2 = x + .5dt*dx2 \n",
    "        y2 = y + .5dt*dy2\n",
    "        u2 = u + .5dt*du2\n",
    "        v2 = v + .5dt*dv2\n",
    "        \n",
    "        dx3 = u2\n",
    "        dy3 = v2\n",
    "        du3, dv3 = force1Body2D(x2,y2,dl,k)\n",
    "        \n",
    "        # k4\n",
    "        x3 = x + dt*dx3 \n",
    "        y3 = y + dt*dy3\n",
    "        u3 = u + dt*du3\n",
    "        v3 = v + dt*dv3\n",
    "        \n",
    "        dx4 = u3\n",
    "        dy4 = v3\n",
    "        du4, dv4 = force1Body2D(x3,y3,dl,k)\n",
    "        \n",
    "        # がっちゃんこ\n",
    "        x += dt*(dx1 + 2dx2 + 2dx3 + dx4)/6. \n",
    "        y += dt*(dy1 + 2dy2 + 2dy3 + dy4)/6.\n",
    "        u += dt*(du1 + 2du2 + 2du3 + du4)/6.\n",
    "        v += dt*(dv1 + 2dv2 + 2dv3 + dv4)/6.\n",
    "        \n",
    "    end\n",
    "    return 0:dt:T, xlist, ylist, ulist, vlist\n",
    "end\n",
    "\n",
    "\n"
   ]
  },
  {
   "cell_type": "code",
   "execution_count": 8,
   "metadata": {},
   "outputs": [
    {
     "data": {
      "text/plain": [
       "movie (generic function with 1 method)"
      ]
     },
     "execution_count": 8,
     "metadata": {},
     "output_type": "execute_result"
    }
   ],
   "source": [
    "function movie(t,x,y)\n",
    "    dl= 1.\n",
    "    \n",
    "    scene = Scene(resolution = (800,800))\n",
    "    mystep = Node(1)\n",
    "\n",
    "    scene = scatter!(\n",
    "        scene, lift(i -> [x[i] y[i]], mystep),\n",
    "        markersize = dl,\n",
    "        color = :blue,\n",
    "        #color = to_colormap(:viridis,1),\n",
    "        #\n",
    "        limits =FRect(-5., -5., 10., 10.)\n",
    "    )\n",
    "        \n",
    "\n",
    "\n",
    "    record(scene, \"yossha3.mp4\",range(1,length(t))) do i\n",
    "        #println(i)\n",
    "        mystep[]=i\n",
    "        end;\n",
    "    \n",
    "end"
   ]
  },
  {
   "cell_type": "code",
   "execution_count": 9,
   "metadata": {},
   "outputs": [
    {
     "data": {
      "text/plain": [
       "movie (generic function with 2 methods)"
      ]
     },
     "execution_count": 9,
     "metadata": {},
     "output_type": "execute_result"
    }
   ],
   "source": [
    "function movie(t,x,y,x2,y2)\n",
    "    dl= 1.\n",
    "    \n",
    "    scene = Scene(resolution = (800,800))\n",
    "    mystep = Node(1)\n",
    "\n",
    "    scene = scatter!(\n",
    "        scene, lift(i -> [x[i] y[i]], mystep),\n",
    "        markersize = dl,\n",
    "        color = :blue,\n",
    "        #color = to_colormap(:viridis,1),\n",
    "        #\n",
    "        limits =FRect(-5., -5., 10., 10.)\n",
    "    )\n",
    "    scene = scatter!(\n",
    "        scene, lift(i -> [x2[i] y2[i]], mystep),\n",
    "        markersize = dl,\n",
    "        color = :green,\n",
    "        #color = to_colormap(:viridis,1),\n",
    "        #\n",
    "        limits =FRect(-5., -5., 10., 10.)\n",
    "    )   \n",
    "\n",
    "\n",
    "    record(scene, \"yossha3.mp4\",range(1,length(t))) do i\n",
    "        #println(i)\n",
    "        mystep[]=i\n",
    "        end;\n",
    "    \n",
    "end"
   ]
  },
  {
   "cell_type": "code",
   "execution_count": 18,
   "metadata": {},
   "outputs": [
    {
     "data": {
      "text/plain": [
       "movie (generic function with 3 methods)"
      ]
     },
     "execution_count": 18,
     "metadata": {},
     "output_type": "execute_result"
    }
   ],
   "source": [
    "function movie(t,x,y,x2,y2,x3,y3;step = 1)\n",
    "    dl= 1.\n",
    "    \n",
    "    scene = Scene(resolution = (800,800))\n",
    "    mystep = Node(1)\n",
    "\n",
    "    scene = scatter!(\n",
    "        scene, lift(i -> [x[i] y[i]], mystep),\n",
    "        markersize = dl,\n",
    "        color = :red,\n",
    "        #color = to_colormap(:viridis,1),\n",
    "        #\n",
    "        limits =FRect(-5., -5., 10., 10.)\n",
    "    )\n",
    "    scene = scatter!(\n",
    "        scene, lift(i -> [x2[i] y2[i]], mystep),\n",
    "        markersize = dl,\n",
    "        color = :blue,\n",
    "        #color = to_colormap(:viridis,1),\n",
    "        #\n",
    "        limits =FRect(-5., -5., 10., 10.)\n",
    "    )   \n",
    "    scene = scatter!(\n",
    "        scene, lift(i -> [x3[i] y3[i]], mystep),\n",
    "        markersize = dl,\n",
    "        color = :green,\n",
    "        #color = to_colormap(:viridis,1),\n",
    "        #\n",
    "        limits =FRect(-5., -5., 10., 10.)\n",
    "    ) \n",
    "\n",
    "    record(scene, \"yossha3.mp4\",range(1,length(t),step=step);framerate=60) do i\n",
    "        #println(i)\n",
    "        mystep[]=i\n",
    "        end;\n",
    "    \n",
    "end"
   ]
  },
  {
   "cell_type": "code",
   "execution_count": 258,
   "metadata": {},
   "outputs": [
    {
     "name": "stderr",
     "output_type": "stream",
     "text": [
      "┌ Warning: `range(start, stop)` (with neither `length` nor `step` given) is deprecated, use `range(start, stop=stop)` instead.\n",
      "│   caller = movie(::StepRangeLen{Float64,Base.TwicePrecision{Float64},Base.TwicePrecision{Float64}}, ::Array{Float64,1}, ::Array{Float64,1}) at In[257]:16\n",
      "└ @ Main .\\In[257]:16\n"
     ]
    },
    {
     "name": "stdout",
     "output_type": "stream",
     "text": [
      " 96.148741 seconds (2.55 M allocations: 3.670 GiB, 0.71% gc time)\n"
     ]
    },
    {
     "data": {
      "text/plain": [
       "\"yossha3.mp4\""
      ]
     },
     "execution_count": 258,
     "metadata": {},
     "output_type": "execute_result"
    }
   ],
   "source": [
    "@time movie(t2,y2,-x2)"
   ]
  },
  {
   "cell_type": "code",
   "execution_count": 32,
   "metadata": {},
   "outputs": [
    {
     "name": "stdout",
     "output_type": "stream",
     "text": [
      "  0.000931 seconds (26 allocations: 313.891 KiB)\n",
      "  0.001408 seconds (30 allocations: 314.266 KiB)\n",
      "  0.002344 seconds (30 allocations: 314.266 KiB)\n"
     ]
    }
   ],
   "source": [
    "θ = 2π * rand()\n",
    "ϕ = 6π # * (rand() - .5)\n",
    "\n",
    "@time t,x,y,u,v = オイラー(θ, ϕ;T=10, dt=1e-3, k=1e5);\n",
    "@time t1,x1,y1,u1,v1 = ホイン(θ, ϕ;T=10, dt=1e-3, k=1e5);\n",
    "@time t2,x2,y2,u2,v2 = ルンゲクッタ(θ, ϕ;T=10, dt=1e-3, k=1e5);"
   ]
  },
  {
   "cell_type": "code",
   "execution_count": 33,
   "metadata": {},
   "outputs": [
    {
     "name": "stdout",
     "output_type": "stream",
     "text": [
      " 41.361065 seconds (3.55 M allocations: 3.695 GiB, 1.28% gc time)\n"
     ]
    },
    {
     "data": {
      "text/plain": [
       "\"yossha3.mp4\""
      ]
     },
     "execution_count": 33,
     "metadata": {},
     "output_type": "execute_result"
    }
   ],
   "source": [
    "@time movie(t2,y,-x,y1,-x1,y2,-x2; step=5)"
   ]
  },
  {
   "cell_type": "code",
   "execution_count": 35,
   "metadata": {},
   "outputs": [
    {
     "data": {
      "image/png": "[encoded data removed]",
      "text/plain": [
       "Scene (960px, 540px):\n",
       "events:\n",
       "    window_area: GeometryTypes.HyperRectangle{2,Int64}([0, 0], [0, 0])\n",
       "    window_dpi: 100.0\n",
       "    window_open: false\n",
       "    mousebuttons: Set(AbstractPlotting.Mouse.Button[])\n",
       "    mouseposition: (0.0, 0.0)\n",
       "    mousedrag: notpressed\n",
       "    scroll: (0.0, 0.0)\n",
       "    keyboardbuttons: Set(AbstractPlotting.Keyboard.Button[])\n",
       "    unicode_input: Char[]\n",
       "    dropped_files: String[]\n",
       "    hasfocus: false\n",
       "    entered_window: false\n",
       "plots:\n",
       "   *Axis2D{...}\n",
       "   *Lines{...}\n",
       "   *Lines{...}\n",
       "subscenes:\n",
       "   *scene(960px, 540px)"
      ]
     },
     "execution_count": 35,
     "metadata": {},
     "output_type": "execute_result"
    }
   ],
   "source": [
    "#lines(t,-x*9.8 + .5*u.^2 + .5*v.^2 , color = :red)\n",
    "lines(t1,-x1*9.8 + .5*u1.^2 + .5*v1.^2, color = :blue)\n",
    "lines!(t2,-x2*9.8 + .5*u2.^2 + .5*v2.^2, color = :green)"
   ]
  },
  {
   "cell_type": "code",
   "execution_count": null,
   "metadata": {},
   "outputs": [],
   "source": []
  }
 ],
 "metadata": {
  "kernelspec": {
   "display_name": "Julia 1.2.0",
   "language": "julia",
   "name": "julia-1.2"
  },
  "language_info": {
   "file_extension": ".jl",
   "mimetype": "application/julia",
   "name": "julia",
   "version": "1.2.0"
  }
 },
 "nbformat": 4,
 "nbformat_minor": 4
}
